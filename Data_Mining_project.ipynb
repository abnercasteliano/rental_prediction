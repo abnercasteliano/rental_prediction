{
 "cells": [
  {
   "cell_type": "markdown",
   "id": "regular-conversion",
   "metadata": {},
   "source": [
    "## Extração dos dados"
   ]
  },
  {
   "cell_type": "code",
   "execution_count": 1,
   "id": "rocky-leadership",
   "metadata": {},
   "outputs": [],
   "source": [
    "# importando o pacotes\n",
    "\n",
    "import pandas as pd\n",
    "import numpy as np\n",
    "import sqlite3"
   ]
  },
  {
   "cell_type": "code",
   "execution_count": 2,
   "id": "leading-procurement",
   "metadata": {},
   "outputs": [],
   "source": [
    "# conectando ao banco de dados - produção\n",
    "\n",
    "connect_db_imoveis = sqlite3.connect('../../data/imoveis_prod.db')"
   ]
  },
  {
   "cell_type": "code",
   "execution_count": 3,
   "id": "successful-retreat",
   "metadata": {},
   "outputs": [],
   "source": [
    "# definição da query final\n",
    "\n",
    "query = r'''\n",
    "    SELECT cidade.nome as \"cidade\",\n",
    "    estado.nome as \"estado\",\n",
    "    imoveis.area,\n",
    "    imoveis.num_quartos,\n",
    "    imoveis.num_banheiros,\n",
    "    imoveis.num_andares,\n",
    "    imoveis.garagem,\n",
    "    imoveis.aceita_animais,\n",
    "    imoveis.mobilia,\n",
    "    imoveis.valor_aluguel,\n",
    "    imoveis.valor_condominio,\n",
    "    imoveis.valor_iptu,\n",
    "    imoveis.valor_seguro_incendio\n",
    "    FROM cidade INNER JOIN estado\n",
    "    ON cidade.codigo_estado = estado.codigo\n",
    "    INNER JOIN imoveis\n",
    "    ON cidade.codigo = imoveis.codigo_cidade;\n",
    "    ''' "
   ]
  },
  {
   "cell_type": "code",
   "execution_count": 4,
   "id": "hazardous-duration",
   "metadata": {},
   "outputs": [
    {
     "data": {
      "text/html": [
       "<div>\n",
       "<style scoped>\n",
       "    .dataframe tbody tr th:only-of-type {\n",
       "        vertical-align: middle;\n",
       "    }\n",
       "\n",
       "    .dataframe tbody tr th {\n",
       "        vertical-align: top;\n",
       "    }\n",
       "\n",
       "    .dataframe thead th {\n",
       "        text-align: right;\n",
       "    }\n",
       "</style>\n",
       "<table border=\"1\" class=\"dataframe\">\n",
       "  <thead>\n",
       "    <tr style=\"text-align: right;\">\n",
       "      <th></th>\n",
       "      <th>cidade</th>\n",
       "      <th>estado</th>\n",
       "      <th>area</th>\n",
       "      <th>num_quartos</th>\n",
       "      <th>num_banheiros</th>\n",
       "      <th>num_andares</th>\n",
       "      <th>garagem</th>\n",
       "      <th>aceita_animais</th>\n",
       "      <th>mobilia</th>\n",
       "      <th>valor_aluguel</th>\n",
       "      <th>valor_condominio</th>\n",
       "      <th>valor_iptu</th>\n",
       "      <th>valor_seguro_incendio</th>\n",
       "    </tr>\n",
       "  </thead>\n",
       "  <tbody>\n",
       "    <tr>\n",
       "      <th>0</th>\n",
       "      <td>São Paulo</td>\n",
       "      <td>SP</td>\n",
       "      <td>70</td>\n",
       "      <td>2</td>\n",
       "      <td>1</td>\n",
       "      <td>7</td>\n",
       "      <td>1</td>\n",
       "      <td>acept</td>\n",
       "      <td>furnished</td>\n",
       "      <td>3300</td>\n",
       "      <td>2065</td>\n",
       "      <td>211</td>\n",
       "      <td>42</td>\n",
       "    </tr>\n",
       "    <tr>\n",
       "      <th>1</th>\n",
       "      <td>São Paulo</td>\n",
       "      <td>SP</td>\n",
       "      <td>320</td>\n",
       "      <td>4</td>\n",
       "      <td>4</td>\n",
       "      <td>20</td>\n",
       "      <td>0</td>\n",
       "      <td>acept</td>\n",
       "      <td>not furnished</td>\n",
       "      <td>4960</td>\n",
       "      <td>1200</td>\n",
       "      <td>1750</td>\n",
       "      <td>63</td>\n",
       "    </tr>\n",
       "    <tr>\n",
       "      <th>2</th>\n",
       "      <td>Porto Alegre</td>\n",
       "      <td>RS</td>\n",
       "      <td>80</td>\n",
       "      <td>1</td>\n",
       "      <td>1</td>\n",
       "      <td>6</td>\n",
       "      <td>1</td>\n",
       "      <td>acept</td>\n",
       "      <td>not furnished</td>\n",
       "      <td>2800</td>\n",
       "      <td>1000</td>\n",
       "      <td>0</td>\n",
       "      <td>41</td>\n",
       "    </tr>\n",
       "    <tr>\n",
       "      <th>3</th>\n",
       "      <td>Porto Alegre</td>\n",
       "      <td>RS</td>\n",
       "      <td>51</td>\n",
       "      <td>2</td>\n",
       "      <td>1</td>\n",
       "      <td>2</td>\n",
       "      <td>0</td>\n",
       "      <td>acept</td>\n",
       "      <td>not furnished</td>\n",
       "      <td>1112</td>\n",
       "      <td>270</td>\n",
       "      <td>22</td>\n",
       "      <td>17</td>\n",
       "    </tr>\n",
       "    <tr>\n",
       "      <th>4</th>\n",
       "      <td>São Paulo</td>\n",
       "      <td>SP</td>\n",
       "      <td>25</td>\n",
       "      <td>1</td>\n",
       "      <td>1</td>\n",
       "      <td>1</td>\n",
       "      <td>0</td>\n",
       "      <td>not acept</td>\n",
       "      <td>not furnished</td>\n",
       "      <td>800</td>\n",
       "      <td>0</td>\n",
       "      <td>25</td>\n",
       "      <td>11</td>\n",
       "    </tr>\n",
       "    <tr>\n",
       "      <th>5</th>\n",
       "      <td>São Paulo</td>\n",
       "      <td>SP</td>\n",
       "      <td>376</td>\n",
       "      <td>3</td>\n",
       "      <td>3</td>\n",
       "      <td>-</td>\n",
       "      <td>7</td>\n",
       "      <td>acept</td>\n",
       "      <td>not furnished</td>\n",
       "      <td>8000</td>\n",
       "      <td>0</td>\n",
       "      <td>834</td>\n",
       "      <td>121</td>\n",
       "    </tr>\n",
       "  </tbody>\n",
       "</table>\n",
       "</div>"
      ],
      "text/plain": [
       "         cidade estado area num_quartos num_banheiros num_andares garagem  \\\n",
       "0     São Paulo     SP   70           2             1           7       1   \n",
       "1     São Paulo     SP  320           4             4          20       0   \n",
       "2  Porto Alegre     RS   80           1             1           6       1   \n",
       "3  Porto Alegre     RS   51           2             1           2       0   \n",
       "4     São Paulo     SP   25           1             1           1       0   \n",
       "5     São Paulo     SP  376           3             3           -       7   \n",
       "\n",
       "  aceita_animais        mobilia valor_aluguel valor_condominio valor_iptu  \\\n",
       "0          acept      furnished          3300             2065        211   \n",
       "1          acept  not furnished          4960             1200       1750   \n",
       "2          acept  not furnished          2800             1000          0   \n",
       "3          acept  not furnished          1112              270         22   \n",
       "4      not acept  not furnished           800                0         25   \n",
       "5          acept  not furnished          8000                0        834   \n",
       "\n",
       "  valor_seguro_incendio  \n",
       "0                    42  \n",
       "1                    63  \n",
       "2                    41  \n",
       "3                    17  \n",
       "4                    11  \n",
       "5                   121  "
      ]
     },
     "execution_count": 4,
     "metadata": {},
     "output_type": "execute_result"
    }
   ],
   "source": [
    "# criando um dataframe com esta query\n",
    "\n",
    "df = pd.read_sql_query(query, connect_db_imoveis)\n",
    "df.head(6)"
   ]
  },
  {
   "cell_type": "code",
   "execution_count": 5,
   "id": "republican-temperature",
   "metadata": {},
   "outputs": [
    {
     "data": {
      "text/plain": [
       "(10692, 13)"
      ]
     },
     "execution_count": 5,
     "metadata": {},
     "output_type": "execute_result"
    }
   ],
   "source": [
    "df.shape"
   ]
  },
  {
   "cell_type": "code",
   "execution_count": 6,
   "id": "wound-device",
   "metadata": {},
   "outputs": [
    {
     "data": {
      "text/plain": [
       "cidade                   object\n",
       "estado                   object\n",
       "area                     object\n",
       "num_quartos              object\n",
       "num_banheiros            object\n",
       "num_andares              object\n",
       "garagem                  object\n",
       "aceita_animais           object\n",
       "mobilia                  object\n",
       "valor_aluguel            object\n",
       "valor_condominio         object\n",
       "valor_iptu               object\n",
       "valor_seguro_incendio    object\n",
       "dtype: object"
      ]
     },
     "execution_count": 6,
     "metadata": {},
     "output_type": "execute_result"
    }
   ],
   "source": [
    "df.dtypes"
   ]
  },
  {
   "cell_type": "code",
   "execution_count": 7,
   "id": "verified-satin",
   "metadata": {},
   "outputs": [
    {
     "data": {
      "text/plain": [
       "cidade                   0\n",
       "estado                   0\n",
       "area                     0\n",
       "num_quartos              0\n",
       "num_banheiros            0\n",
       "num_andares              0\n",
       "garagem                  0\n",
       "aceita_animais           0\n",
       "mobilia                  0\n",
       "valor_aluguel            0\n",
       "valor_condominio         0\n",
       "valor_iptu               0\n",
       "valor_seguro_incendio    0\n",
       "dtype: int64"
      ]
     },
     "execution_count": 7,
     "metadata": {},
     "output_type": "execute_result"
    }
   ],
   "source": [
    "df.isnull().sum()"
   ]
  },
  {
   "cell_type": "markdown",
   "id": "accepted-escape",
   "metadata": {},
   "source": [
    "## Data transformation/cleaning"
   ]
  },
  {
   "cell_type": "code",
   "execution_count": 8,
   "id": "fundamental-ancient",
   "metadata": {},
   "outputs": [],
   "source": [
    "# convrertendo os valores para numérico\n",
    "\n",
    "from numpy import int64, float64\n",
    "\n",
    "df['area'] = df['area'].astype(int64)\n",
    "df['num_quartos'] = df['num_quartos'].astype(int64)\n",
    "df['num_banheiros'] = df['num_banheiros'].astype(int64)\n",
    "df['garagem'] = df['garagem'].astype(int64)\n",
    "df['valor_aluguel'] = df['valor_aluguel'].astype(float64)\n",
    "df['valor_condominio'] = df['valor_condominio'].astype(float64)\n",
    "df['valor_iptu'] = df['valor_iptu'].astype(float64)\n",
    "df['valor_seguro_incendio'] = df['valor_seguro_incendio'].astype(float64)"
   ]
  },
  {
   "cell_type": "markdown",
   "id": "photographic-savannah",
   "metadata": {},
   "source": [
    "### Importante\n",
    "**Apesar de não reconhecer missing values,o num_andares não pôde ser convertido pois encontrou caracteres.**"
   ]
  },
  {
   "cell_type": "code",
   "execution_count": 9,
   "id": "seven-label",
   "metadata": {},
   "outputs": [
    {
     "data": {
      "text/plain": [
       "array(['7', '20', '6', '2', '1', '-', '4', '3', '10', '11', '24', '9',\n",
       "       '8', '17', '18', '5', '13', '15', '16', '14', '26', '12', '21',\n",
       "       '19', '22', '27', '23', '35', '25', '46', '28', '29', '301', '51',\n",
       "       '32'], dtype=object)"
      ]
     },
     "execution_count": 9,
     "metadata": {},
     "output_type": "execute_result"
    }
   ],
   "source": [
    "# encontrando e substituindo caracteres\n",
    "\n",
    "df['num_andares'].unique()"
   ]
  },
  {
   "cell_type": "code",
   "execution_count": 10,
   "id": "active-treasurer",
   "metadata": {},
   "outputs": [],
   "source": [
    "# substituindo - pelo menor valor\n",
    "\n",
    "df['num_andares'].replace({'-': 1}, inplace=True)"
   ]
  },
  {
   "cell_type": "code",
   "execution_count": 11,
   "id": "adjusted-catering",
   "metadata": {},
   "outputs": [],
   "source": [
    "# convertendo\n",
    "\n",
    "df['num_andares'] = df['num_andares'].astype(int64)"
   ]
  },
  {
   "cell_type": "code",
   "execution_count": 12,
   "id": "administrative-might",
   "metadata": {},
   "outputs": [
    {
     "data": {
      "text/plain": [
       "cidade                    object\n",
       "estado                    object\n",
       "area                       int64\n",
       "num_quartos                int64\n",
       "num_banheiros              int64\n",
       "num_andares                int64\n",
       "garagem                    int64\n",
       "aceita_animais            object\n",
       "mobilia                   object\n",
       "valor_aluguel            float64\n",
       "valor_condominio         float64\n",
       "valor_iptu               float64\n",
       "valor_seguro_incendio    float64\n",
       "dtype: object"
      ]
     },
     "execution_count": 12,
     "metadata": {},
     "output_type": "execute_result"
    }
   ],
   "source": [
    "# verificando os valores\n",
    "\n",
    "df.dtypes"
   ]
  },
  {
   "cell_type": "code",
   "execution_count": 13,
   "id": "posted-subscriber",
   "metadata": {},
   "outputs": [
    {
     "name": "stdout",
     "output_type": "stream",
     "text": [
      "['acept' 'not acept']\n",
      "['furnished' 'not furnished']\n"
     ]
    }
   ],
   "source": [
    "# encoder de animais e mobilia\n",
    "\n",
    "print(df['aceita_animais'].unique())\n",
    "print(df['mobilia'].unique())"
   ]
  },
  {
   "cell_type": "code",
   "execution_count": 14,
   "id": "computational-stocks",
   "metadata": {},
   "outputs": [],
   "source": [
    "# substituindo\n",
    "animais_map = {'not acept' : 0, 'acept': 1}\n",
    "mobilia_map = {'not furnished' : 0, 'furnished': 1}\n",
    "\n",
    "df['aceita_animais'] = df['aceita_animais'].astype(str).map(animais_map)\n",
    "df['mobilia'] = df['mobilia'].astype(str).map(mobilia_map)"
   ]
  },
  {
   "cell_type": "code",
   "execution_count": 15,
   "id": "suffering-satin",
   "metadata": {},
   "outputs": [
    {
     "data": {
      "text/plain": [
       "cidade                    object\n",
       "estado                    object\n",
       "area                       int64\n",
       "num_quartos                int64\n",
       "num_banheiros              int64\n",
       "num_andares                int64\n",
       "garagem                    int64\n",
       "aceita_animais             int64\n",
       "mobilia                    int64\n",
       "valor_aluguel            float64\n",
       "valor_condominio         float64\n",
       "valor_iptu               float64\n",
       "valor_seguro_incendio    float64\n",
       "dtype: object"
      ]
     },
     "execution_count": 15,
     "metadata": {},
     "output_type": "execute_result"
    }
   ],
   "source": [
    "df.dtypes"
   ]
  },
  {
   "cell_type": "code",
   "execution_count": 16,
   "id": "extraordinary-death",
   "metadata": {},
   "outputs": [
    {
     "name": "stdout",
     "output_type": "stream",
     "text": [
      "['São Paulo' 'Porto Alegre' 'Rio de Janeiro' 'Campinas']\n",
      "['SP' 'RS' 'RJ']\n"
     ]
    }
   ],
   "source": [
    "# Limpando cidade e estado\n",
    "\n",
    "print(df['cidade'].unique())\n",
    "print(df['estado'].unique())"
   ]
  },
  {
   "cell_type": "code",
   "execution_count": 17,
   "id": "distinguished-plain",
   "metadata": {},
   "outputs": [],
   "source": [
    "# colocando cada cidade em maiúsculo\n",
    "\n",
    "df['cidade'] = df['cidade'].str.title()"
   ]
  },
  {
   "cell_type": "code",
   "execution_count": 18,
   "id": "deadly-stadium",
   "metadata": {},
   "outputs": [
    {
     "data": {
      "text/plain": [
       "array(['São Paulo', 'Porto Alegre', 'Rio De Janeiro', 'Campinas'],\n",
       "      dtype=object)"
      ]
     },
     "execution_count": 18,
     "metadata": {},
     "output_type": "execute_result"
    }
   ],
   "source": [
    "df['cidade'].unique()"
   ]
  },
  {
   "cell_type": "markdown",
   "id": "seeing-pride",
   "metadata": {},
   "source": [
    "## Salvando o dataset final"
   ]
  },
  {
   "cell_type": "code",
   "execution_count": 20,
   "id": "mature-keyboard",
   "metadata": {},
   "outputs": [],
   "source": [
    "df.to_csv('final_df.csv', index=False)"
   ]
  },
  {
   "cell_type": "code",
   "execution_count": null,
   "id": "thermal-maldives",
   "metadata": {},
   "outputs": [],
   "source": []
  }
 ],
 "metadata": {
  "kernelspec": {
   "display_name": "Python 3",
   "language": "python",
   "name": "python3"
  },
  "language_info": {
   "codemirror_mode": {
    "name": "ipython",
    "version": 3
   },
   "file_extension": ".py",
   "mimetype": "text/x-python",
   "name": "python",
   "nbconvert_exporter": "python",
   "pygments_lexer": "ipython3",
   "version": "3.7.4"
  }
 },
 "nbformat": 4,
 "nbformat_minor": 5
}
